{
 "cells": [
  {
   "cell_type": "code",
   "execution_count": 1,
   "metadata": {},
   "outputs": [
    {
     "name": "stderr",
     "output_type": "stream",
     "text": [
      "/eos/user/j/jowulff/mambaforge/lib/python3.10/site-packages/seaborn/_statistics.py:32: UserWarning: A NumPy version >=1.23.5 and <2.3.0 is required for this version of SciPy (detected version 1.23.4)\n",
      "  from scipy.stats import gaussian_kde\n"
     ]
    }
   ],
   "source": [
    "import pandas as pd\n",
    "import matplotlib.pyplot as plt\n",
    "import seaborn as sns\n",
    "\n",
    "from pathlib import Path \n",
    "\n",
    "from tests import *\n",
    "from pprint import pprint\n",
    "\n",
    "from plotting import plot_qdc, plot_tdc, plot_testpulse, plot_disc_calibration\n"
   ]
  },
  {
   "cell_type": "code",
   "execution_count": 2,
   "metadata": {},
   "outputs": [],
   "source": [
    "test_map = {\"Aldo\": Aldo,\n",
    "            \"TestPulse\": TestPulse,\n",
    "            \"ExtTestPulse\": ExtTestPulse,\n",
    "            \"DiscCalibration0\": DiscCalibration_0,\n",
    "            \"DiscCalibration1\": DiscCalibration_1,\n",
    "            \"DiscCalibration2\": DiscCalibration_2,\n",
    "            \"DiscCalibration3\": DiscCalibration_3,\n",
    "            \"QDCCalibration0\": QDCCalibration_0,\n",
    "            \"QDCCalibration1\": QDCCalibration_1,\n",
    "            \"QDCCalibration2\": QDCCalibration_2,\n",
    "            \"QDCCalibration3\": QDCCalibration_3,\n",
    "            \"QDCCalibration4\": QDCCalibration_4,\n",
    "            \"QDCCalibration5\": QDCCalibration_5,\n",
    "            \"QDCCalibration6\": QDCCalibration_6,\n",
    "            \"QDCCalibration7\": QDCCalibration_7,\n",
    "            \"TDCCalibration\": TDCCalibration}\n",
    "\n",
    "\n",
    "      \n",
    "class TestResult:\n",
    "\n",
    "    def __init__(self,\n",
    "                path: str | Path = \"\",\n",
    "                tests: list[str] = [\"Aldo\",\n",
    "                                    \"TestPulse\",\n",
    "                                    \"ExtTestPulse\",\n",
    "                                    \"DiscCalibration0\",\n",
    "                                    \"DiscCalibration1\",\n",
    "                                    \"DiscCalibration2\",\n",
    "                                    \"DiscCalibration3\",\n",
    "                                    \"QDCCalibration0\",\n",
    "                                    \"QDCCalibration1\",\n",
    "                                    \"QDCCalibration2\",\n",
    "                                    \"QDCCalibration3\",\n",
    "                                    \"QDCCalibration4\",\n",
    "                                    \"QDCCalibration5\",\n",
    "                                    \"QDCCalibration6\",\n",
    "                                    \"QDCCalibration7\",\n",
    "                                    \"TDCCalibration\"],\n",
    "                ) -> None:\n",
    "      \n",
    "        self.path = path\n",
    "        self.tests = tests\n",
    "\n",
    "        # for each test assert that the corresponding file exists\n",
    "        for test in self.tests:\n",
    "            datafile = test_map[test](test_result_dir=self.path).datafile\n",
    "            if not datafile.exists(): \n",
    "                raise FileNotFoundError(f\"File {datafile} not found in {self.path}\")\n",
    "\n",
    "        self.serial_files = [f for f in Path(self.path).rglob('SN_3*.txt')]\n",
    "        assert len(self.serial_files) > 0, \"No serial files found in the directory\"\n",
    "\n",
    "        self.tester_to_serial = {}\n",
    "        for f in self.serial_files: \n",
    "            sn = int(f.stem.split(\" \")[-1])\n",
    "            with open(f, \"r\") as file:\n",
    "                tester = int(file.read().strip())\n",
    "            self.tester_to_serial[tester] = sn\n",
    "\n",
    "\n",
    "    def get_data(self,\n",
    "                test: str,\n",
    "                filename: str = \"\"\n",
    "                ) -> pd.DataFrame:\n",
    "        if test not in self.tests:\n",
    "            raise ValueError(f\"Test {test} not in {self.tests}\")\n",
    "        \n",
    "        test_args = {\"test_result_dir\": self.path,\n",
    "                    \"tester_to_serial\": self.tester_to_serial}\n",
    "        if filename != \"\":\n",
    "            test_args[\"filename\"] = filename\n",
    "            return test_map[test](**test_args).get_data()\n",
    "        else:\n",
    "            return test_map[test](**test_args).get_data()\n",
    "\n",
    "        \n",
    "    def get_passing_info(self,\n",
    "                        test: str\n",
    "                        ) -> pd.DataFrame:\n",
    "        if test not in self.tests:\n",
    "            raise ValueError(f\"Test {test} not in {self.tests}\")\n",
    "\n",
    "        test_args = {\"test_result_dir\": self.path,\n",
    "                    \"tester_to_serial\": self.tester_to_serial}\n",
    "        return test_map[test](**test_args).get_passing_info()\n"
   ]
  },
  {
   "cell_type": "code",
   "execution_count": 3,
   "metadata": {},
   "outputs": [
    {
     "data": {
      "text/plain": [
       "[PosixPath('/eos/user/a/aboletti/TOFHIR2C_validation/tmp_calibration_data/202407041556'),\n",
       " PosixPath('/eos/user/a/aboletti/TOFHIR2C_validation/tmp_calibration_data/202407041737'),\n",
       " PosixPath('/eos/user/a/aboletti/TOFHIR2C_validation/tmp_calibration_data/202407041910'),\n",
       " PosixPath('/eos/user/a/aboletti/TOFHIR2C_validation/tmp_calibration_data/202407042048'),\n",
       " PosixPath('/eos/user/a/aboletti/TOFHIR2C_validation/tmp_calibration_data/202407042204'),\n",
       " PosixPath('/eos/user/a/aboletti/TOFHIR2C_validation/tmp_calibration_data/202407050847'),\n",
       " PosixPath('/eos/user/a/aboletti/TOFHIR2C_validation/tmp_calibration_data/202407051014'),\n",
       " PosixPath('/eos/user/a/aboletti/TOFHIR2C_validation/tmp_calibration_data/202407051151'),\n",
       " PosixPath('/eos/user/a/aboletti/TOFHIR2C_validation/tmp_calibration_data/202407051319'),\n",
       " PosixPath('/eos/user/a/aboletti/TOFHIR2C_validation/tmp_calibration_data/202407051320'),\n",
       " PosixPath('/eos/user/a/aboletti/TOFHIR2C_validation/tmp_calibration_data/202407051322'),\n",
       " PosixPath('/eos/user/a/aboletti/TOFHIR2C_validation/tmp_calibration_data/202407051511'),\n",
       " PosixPath('/eos/user/a/aboletti/TOFHIR2C_validation/tmp_calibration_data/202407051642'),\n",
       " PosixPath('/eos/user/a/aboletti/TOFHIR2C_validation/tmp_calibration_data/202407080845'),\n",
       " PosixPath('/eos/user/a/aboletti/TOFHIR2C_validation/tmp_calibration_data/202407081704'),\n",
       " PosixPath('/eos/user/a/aboletti/TOFHIR2C_validation/tmp_calibration_data/202407081902'),\n",
       " PosixPath('/eos/user/a/aboletti/TOFHIR2C_validation/tmp_calibration_data/202407082010'),\n",
       " PosixPath('/eos/user/a/aboletti/TOFHIR2C_validation/tmp_calibration_data/202407091555'),\n",
       " PosixPath('/eos/user/a/aboletti/TOFHIR2C_validation/tmp_calibration_data/202407171126'),\n",
       " PosixPath('/eos/user/a/aboletti/TOFHIR2C_validation/tmp_calibration_data/202407171130')]"
      ]
     },
     "execution_count": 3,
     "metadata": {},
     "output_type": "execute_result"
    }
   ],
   "source": [
    "test_result_dirs = [d for d in Path(\"/eos/user/a/aboletti/TOFHIR2C_validation/tmp_calibration_data\").glob(\"2024*\") if d.is_dir()]\n",
    "# assert that the dirs are sorted by their timestamps (yyyymmddhhmm)\n",
    "test_result_dirs = sorted(test_result_dirs, key=lambda x: int(x.stem))\n",
    "test_result_dirs"
   ]
  },
  {
   "cell_type": "code",
   "execution_count": 4,
   "metadata": {},
   "outputs": [
    {
     "name": "stdout",
     "output_type": "stream",
     "text": [
      "File /eos/user/a/aboletti/TOFHIR2C_validation/tmp_calibration_data/202407051319/aldo.tsv not found\n",
      "File /eos/user/a/aboletti/TOFHIR2C_validation/tmp_calibration_data/202407051320/aldo.tsv not found\n",
      "File /eos/user/a/aboletti/TOFHIR2C_validation/tmp_calibration_data/202407081902/fetp_tres_scan.tsv not found\n",
      "File /eos/user/a/aboletti/TOFHIR2C_validation/tmp_calibration_data/202407171126/aldo.tsv not found\n"
     ]
    }
   ],
   "source": [
    "trs = []\n",
    "for d in test_result_dirs:\n",
    "    try:\n",
    "        tr = TestResult(d)\n",
    "        trs.append(tr)\n",
    "    except FileNotFoundError as e:\n",
    "        print(e)\n",
    "        continue"
   ]
  },
  {
   "cell_type": "code",
   "execution_count": 5,
   "metadata": {},
   "outputs": [],
   "source": [
    "class YieldComputer:\n",
    "    \n",
    "    def __init__(self,\n",
    "                 tests: list,\n",
    "                 base_dir: str | Path) -> None:\n",
    "        self.tests = tests\n",
    "        self.base_dir = base_dir\n",
    "        \n",
    "\n",
    "    def get_test_result_dirs(self,\n",
    "                             base_dir: str):\n",
    "        test_result_dirs = [d for d in Path(self.base_dir).glob(\"2024*\") if d.is_dir()]\n",
    "        return sorted(test_result_dirs, key=lambda x: int(x.stem))\n",
    "\n",
    "\n",
    "    def merge_dataframes_for_test(self,\n",
    "                                  test: str):\n",
    "        test_result_dirs = self.get_test_result_dirs(self.base_dir)\n",
    "        merged_dataframe = pd.DataFrame()\n",
    "        skipped = []\n",
    "        for d in test_result_dirs:\n",
    "            try: \n",
    "                tr = TestResult(path=d)\n",
    "            except FileNotFoundError as e:\n",
    "                skipped.append(d)\n",
    "                continue\n",
    "            data = tr.get_passing_info(test)\n",
    "            if not merged_dataframe.empty and any(data[\"SN\"].isin(merged_dataframe[\"SN\"])):\n",
    "                merged_dataframe = merged_dataframe[~merged_dataframe[\"SN\"].isin(data[\"SN\"])]\n",
    "            merged_dataframe = pd.concat([merged_dataframe, data], ignore_index=True)\n",
    "        merged_dataframe.set_index(\"SN\", inplace=True)\n",
    "        #print(f\"Skipped {len(skipped)} directories:\")\n",
    "        #pprint(skipped)\n",
    "        return merged_dataframe\n",
    "\n",
    "\n",
    "    def get_yield_data(self):\n",
    "        return pd.concat([self.merge_dataframes_for_test(test).rename(columns={\"pass\": f\"{test}_pass\"})\n",
    "                          for test in self.tests], axis=1)\n"
   ]
  },
  {
   "cell_type": "code",
   "execution_count": 6,
   "metadata": {},
   "outputs": [],
   "source": [
    "yc = YieldComputer(tests=[\"Aldo\",\n",
    "                          \"DiscCalibration0\",\n",
    "                          \"DiscCalibration1\",\n",
    "                          \"DiscCalibration2\",\n",
    "                          \"DiscCalibration3\",\n",
    "                          \"QDCCalibration0\",\n",
    "                          \"QDCCalibration1\",\n",
    "                          \"QDCCalibration2\",\n",
    "                          \"QDCCalibration3\",\n",
    "                          \"QDCCalibration4\",\n",
    "                          \"QDCCalibration5\",\n",
    "                          \"QDCCalibration6\",\n",
    "                          \"QDCCalibration7\",\n",
    "                          \"TDCCalibration\"],\n",
    "                   base_dir=\"/eos/user/a/aboletti/TOFHIR2C_validation/tmp_calibration_data\")"
   ]
  },
  {
   "cell_type": "code",
   "execution_count": 7,
   "metadata": {},
   "outputs": [
    {
     "name": "stderr",
     "output_type": "stream",
     "text": [
      "/eos/home-j/jowulff/MTD/combined_plots/tests.py:188: RuntimeWarning: invalid value encountered in double_scalars\n",
      "  max_inl = max(abs(error)) / slope\n"
     ]
    },
    {
     "name": "stdout",
     "output_type": "stream",
     "text": [
      "Aldo_pass: 0.9622641509433962\n",
      "DiscCalibration0_pass: 1.0\n",
      "DiscCalibration1_pass: 1.0\n",
      "DiscCalibration2_pass: 1.0\n",
      "DiscCalibration3_pass: 1.0\n",
      "QDCCalibration0_pass: 1.0\n",
      "QDCCalibration1_pass: 1.0\n",
      "QDCCalibration2_pass: 1.0\n",
      "QDCCalibration3_pass: 1.0\n",
      "QDCCalibration4_pass: 1.0\n",
      "QDCCalibration5_pass: 1.0\n",
      "QDCCalibration6_pass: 0.9905660377358491\n",
      "QDCCalibration7_pass: 0.9622641509433962\n",
      "TDCCalibration_pass: 0.9811320754716981\n"
     ]
    }
   ],
   "source": [
    "yield_df = yc.get_yield_data()\n",
    "for col in yield_df.columns:\n",
    "    print(f\"{col}: {yield_df[col].sum()/len(yield_df)}\")\n"
   ]
  },
  {
   "cell_type": "code",
   "execution_count": 8,
   "metadata": {},
   "outputs": [
    {
     "name": "stdout",
     "output_type": "stream",
     "text": [
      "Total yield: 90.57%\n"
     ]
    }
   ],
   "source": [
    "total_yield = (yield_df.sum(axis=1) == len(yield_df.columns)).sum()/len(yield_df)\n",
    "print(f\"Total yield: {total_yield:.2%}\")"
   ]
  },
  {
   "cell_type": "code",
   "execution_count": 9,
   "metadata": {},
   "outputs": [
    {
     "name": "stderr",
     "output_type": "stream",
     "text": [
      "/eos/home-j/jowulff/MTD/combined_plots/tests.py:188: RuntimeWarning: invalid value encountered in double_scalars\n",
      "  max_inl = max(abs(error)) / slope\n"
     ]
    },
    {
     "data": {
      "text/html": [
       "<div>\n",
       "<style scoped>\n",
       "    .dataframe tbody tr th:only-of-type {\n",
       "        vertical-align: middle;\n",
       "    }\n",
       "\n",
       "    .dataframe tbody tr th {\n",
       "        vertical-align: top;\n",
       "    }\n",
       "\n",
       "    .dataframe thead th {\n",
       "        text-align: right;\n",
       "    }\n",
       "</style>\n",
       "<table border=\"1\" class=\"dataframe\">\n",
       "  <thead>\n",
       "    <tr style=\"text-align: right;\">\n",
       "      <th></th>\n",
       "      <th>pass</th>\n",
       "    </tr>\n",
       "    <tr>\n",
       "      <th>SN</th>\n",
       "      <th></th>\n",
       "    </tr>\n",
       "  </thead>\n",
       "  <tbody>\n",
       "    <tr>\n",
       "      <th>229</th>\n",
       "      <td>True</td>\n",
       "    </tr>\n",
       "    <tr>\n",
       "      <th>289</th>\n",
       "      <td>True</td>\n",
       "    </tr>\n",
       "    <tr>\n",
       "      <th>290</th>\n",
       "      <td>True</td>\n",
       "    </tr>\n",
       "    <tr>\n",
       "      <th>294</th>\n",
       "      <td>True</td>\n",
       "    </tr>\n",
       "    <tr>\n",
       "      <th>318</th>\n",
       "      <td>True</td>\n",
       "    </tr>\n",
       "    <tr>\n",
       "      <th>...</th>\n",
       "      <td>...</td>\n",
       "    </tr>\n",
       "    <tr>\n",
       "      <th>123</th>\n",
       "      <td>True</td>\n",
       "    </tr>\n",
       "    <tr>\n",
       "      <th>140</th>\n",
       "      <td>True</td>\n",
       "    </tr>\n",
       "    <tr>\n",
       "      <th>177</th>\n",
       "      <td>True</td>\n",
       "    </tr>\n",
       "    <tr>\n",
       "      <th>217</th>\n",
       "      <td>True</td>\n",
       "    </tr>\n",
       "    <tr>\n",
       "      <th>247</th>\n",
       "      <td>True</td>\n",
       "    </tr>\n",
       "  </tbody>\n",
       "</table>\n",
       "<p>106 rows × 1 columns</p>\n",
       "</div>"
      ],
      "text/plain": [
       "     pass\n",
       "SN       \n",
       "229  True\n",
       "289  True\n",
       "290  True\n",
       "294  True\n",
       "318  True\n",
       "..    ...\n",
       "123  True\n",
       "140  True\n",
       "177  True\n",
       "217  True\n",
       "247  True\n",
       "\n",
       "[106 rows x 1 columns]"
      ]
     },
     "execution_count": 9,
     "metadata": {},
     "output_type": "execute_result"
    }
   ],
   "source": [
    "aldo_merged = yc.merge_dataframes_for_test(\"Aldo\")\n",
    "aldo_merged"
   ]
  },
  {
   "cell_type": "code",
   "execution_count": 12,
   "metadata": {},
   "outputs": [
    {
     "data": {
      "text/plain": [
       "[PosixPath('/eos/user/a/aboletti/TOFHIR2C_validation/tmp_calibration_data/202407041556'),\n",
       " PosixPath('/eos/user/a/aboletti/TOFHIR2C_validation/tmp_calibration_data/202407041737'),\n",
       " PosixPath('/eos/user/a/aboletti/TOFHIR2C_validation/tmp_calibration_data/202407041910'),\n",
       " PosixPath('/eos/user/a/aboletti/TOFHIR2C_validation/tmp_calibration_data/202407042048'),\n",
       " PosixPath('/eos/user/a/aboletti/TOFHIR2C_validation/tmp_calibration_data/202407042204'),\n",
       " PosixPath('/eos/user/a/aboletti/TOFHIR2C_validation/tmp_calibration_data/202407050847'),\n",
       " PosixPath('/eos/user/a/aboletti/TOFHIR2C_validation/tmp_calibration_data/202407051014'),\n",
       " PosixPath('/eos/user/a/aboletti/TOFHIR2C_validation/tmp_calibration_data/202407051151'),\n",
       " PosixPath('/eos/user/a/aboletti/TOFHIR2C_validation/tmp_calibration_data/202407051319'),\n",
       " PosixPath('/eos/user/a/aboletti/TOFHIR2C_validation/tmp_calibration_data/202407051320'),\n",
       " PosixPath('/eos/user/a/aboletti/TOFHIR2C_validation/tmp_calibration_data/202407051322'),\n",
       " PosixPath('/eos/user/a/aboletti/TOFHIR2C_validation/tmp_calibration_data/202407051511'),\n",
       " PosixPath('/eos/user/a/aboletti/TOFHIR2C_validation/tmp_calibration_data/202407051642'),\n",
       " PosixPath('/eos/user/a/aboletti/TOFHIR2C_validation/tmp_calibration_data/202407080845'),\n",
       " PosixPath('/eos/user/a/aboletti/TOFHIR2C_validation/tmp_calibration_data/202407081704'),\n",
       " PosixPath('/eos/user/a/aboletti/TOFHIR2C_validation/tmp_calibration_data/202407081902'),\n",
       " PosixPath('/eos/user/a/aboletti/TOFHIR2C_validation/tmp_calibration_data/202407082010'),\n",
       " PosixPath('/eos/user/a/aboletti/TOFHIR2C_validation/tmp_calibration_data/202407091555'),\n",
       " PosixPath('/eos/user/a/aboletti/TOFHIR2C_validation/tmp_calibration_data/202407171126'),\n",
       " PosixPath('/eos/user/a/aboletti/TOFHIR2C_validation/tmp_calibration_data/202407171130')]"
      ]
     },
     "execution_count": 12,
     "metadata": {},
     "output_type": "execute_result"
    }
   ],
   "source": [
    "test_results = yc.get_test_result_dirs(\"/eos/user/a/aboletti/TOFHIR2C_validation/tmp_calibration_data\")\n",
    "test_results"
   ]
  },
  {
   "cell_type": "code",
   "execution_count": 14,
   "metadata": {},
   "outputs": [
    {
     "name": "stderr",
     "output_type": "stream",
     "text": [
      "/eos/home-j/jowulff/MTD/combined_plots/tests.py:188: RuntimeWarning: invalid value encountered in double_scalars\n",
      "  max_inl = max(abs(error)) / slope\n"
     ]
    },
    {
     "data": {
      "text/html": [
       "<div>\n",
       "<style scoped>\n",
       "    .dataframe tbody tr th:only-of-type {\n",
       "        vertical-align: middle;\n",
       "    }\n",
       "\n",
       "    .dataframe tbody tr th {\n",
       "        vertical-align: top;\n",
       "    }\n",
       "\n",
       "    .dataframe thead th {\n",
       "        text-align: right;\n",
       "    }\n",
       "</style>\n",
       "<table border=\"1\" class=\"dataframe\">\n",
       "  <thead>\n",
       "    <tr style=\"text-align: right;\">\n",
       "      <th></th>\n",
       "      <th>pass</th>\n",
       "    </tr>\n",
       "    <tr>\n",
       "      <th>SN</th>\n",
       "      <th></th>\n",
       "    </tr>\n",
       "  </thead>\n",
       "  <tbody>\n",
       "    <tr>\n",
       "      <th>229</th>\n",
       "      <td>True</td>\n",
       "    </tr>\n",
       "    <tr>\n",
       "      <th>289</th>\n",
       "      <td>True</td>\n",
       "    </tr>\n",
       "    <tr>\n",
       "      <th>290</th>\n",
       "      <td>True</td>\n",
       "    </tr>\n",
       "    <tr>\n",
       "      <th>294</th>\n",
       "      <td>True</td>\n",
       "    </tr>\n",
       "    <tr>\n",
       "      <th>318</th>\n",
       "      <td>True</td>\n",
       "    </tr>\n",
       "    <tr>\n",
       "      <th>...</th>\n",
       "      <td>...</td>\n",
       "    </tr>\n",
       "    <tr>\n",
       "      <th>123</th>\n",
       "      <td>True</td>\n",
       "    </tr>\n",
       "    <tr>\n",
       "      <th>140</th>\n",
       "      <td>True</td>\n",
       "    </tr>\n",
       "    <tr>\n",
       "      <th>177</th>\n",
       "      <td>True</td>\n",
       "    </tr>\n",
       "    <tr>\n",
       "      <th>217</th>\n",
       "      <td>True</td>\n",
       "    </tr>\n",
       "    <tr>\n",
       "      <th>247</th>\n",
       "      <td>True</td>\n",
       "    </tr>\n",
       "  </tbody>\n",
       "</table>\n",
       "<p>106 rows × 1 columns</p>\n",
       "</div>"
      ],
      "text/plain": [
       "     pass\n",
       "SN       \n",
       "229  True\n",
       "289  True\n",
       "290  True\n",
       "294  True\n",
       "318  True\n",
       "..    ...\n",
       "123  True\n",
       "140  True\n",
       "177  True\n",
       "217  True\n",
       "247  True\n",
       "\n",
       "[106 rows x 1 columns]"
      ]
     },
     "execution_count": 14,
     "metadata": {},
     "output_type": "execute_result"
    }
   ],
   "source": [
    "aldo_data = yc.merge_dataframes_for_test(\"Aldo\")\n",
    "aldo_data"
   ]
  },
  {
   "cell_type": "code",
   "execution_count": 27,
   "metadata": {},
   "outputs": [
    {
     "data": {
      "text/html": [
       "<div>\n",
       "<style scoped>\n",
       "    .dataframe tbody tr th:only-of-type {\n",
       "        vertical-align: middle;\n",
       "    }\n",
       "\n",
       "    .dataframe tbody tr th {\n",
       "        vertical-align: top;\n",
       "    }\n",
       "\n",
       "    .dataframe thead th {\n",
       "        text-align: right;\n",
       "    }\n",
       "</style>\n",
       "<table border=\"1\" class=\"dataframe\">\n",
       "  <thead>\n",
       "    <tr style=\"text-align: right;\">\n",
       "      <th></th>\n",
       "      <th>SN</th>\n",
       "      <th>pass</th>\n",
       "    </tr>\n",
       "  </thead>\n",
       "  <tbody>\n",
       "    <tr>\n",
       "      <th>0</th>\n",
       "      <td>135.0</td>\n",
       "      <td>False</td>\n",
       "    </tr>\n",
       "    <tr>\n",
       "      <th>1</th>\n",
       "      <td>229.0</td>\n",
       "      <td>True</td>\n",
       "    </tr>\n",
       "    <tr>\n",
       "      <th>2</th>\n",
       "      <td>289.0</td>\n",
       "      <td>True</td>\n",
       "    </tr>\n",
       "    <tr>\n",
       "      <th>3</th>\n",
       "      <td>290.0</td>\n",
       "      <td>True</td>\n",
       "    </tr>\n",
       "    <tr>\n",
       "      <th>4</th>\n",
       "      <td>294.0</td>\n",
       "      <td>True</td>\n",
       "    </tr>\n",
       "    <tr>\n",
       "      <th>5</th>\n",
       "      <td>318.0</td>\n",
       "      <td>True</td>\n",
       "    </tr>\n",
       "    <tr>\n",
       "      <th>6</th>\n",
       "      <td>334.0</td>\n",
       "      <td>True</td>\n",
       "    </tr>\n",
       "    <tr>\n",
       "      <th>7</th>\n",
       "      <td>341.0</td>\n",
       "      <td>True</td>\n",
       "    </tr>\n",
       "  </tbody>\n",
       "</table>\n",
       "</div>"
      ],
      "text/plain": [
       "      SN   pass\n",
       "0  135.0  False\n",
       "1  229.0   True\n",
       "2  289.0   True\n",
       "3  290.0   True\n",
       "4  294.0   True\n",
       "5  318.0   True\n",
       "6  334.0   True\n",
       "7  341.0   True"
      ]
     },
     "execution_count": 27,
     "metadata": {},
     "output_type": "execute_result"
    }
   ],
   "source": [
    "# set index dtype to int\n",
    "pd.concat([aldo_data.index.dtype(\"int\")], axis=1).reset_index(drop=True)"
   ]
  },
  {
   "cell_type": "code",
   "execution_count": null,
   "metadata": {},
   "outputs": [],
   "source": []
  },
  {
   "cell_type": "code",
   "execution_count": 37,
   "metadata": {},
   "outputs": [
    {
     "data": {
      "text/html": [
       "<div>\n",
       "<style scoped>\n",
       "    .dataframe tbody tr th:only-of-type {\n",
       "        vertical-align: middle;\n",
       "    }\n",
       "\n",
       "    .dataframe tbody tr th {\n",
       "        vertical-align: top;\n",
       "    }\n",
       "\n",
       "    .dataframe thead th {\n",
       "        text-align: right;\n",
       "    }\n",
       "</style>\n",
       "<table border=\"1\" class=\"dataframe\">\n",
       "  <thead>\n",
       "    <tr style=\"text-align: right;\">\n",
       "      <th></th>\n",
       "      <th>SN</th>\n",
       "      <th>pass</th>\n",
       "    </tr>\n",
       "  </thead>\n",
       "  <tbody>\n",
       "    <tr>\n",
       "      <th>0</th>\n",
       "      <td>135.0</td>\n",
       "      <td>False</td>\n",
       "    </tr>\n",
       "    <tr>\n",
       "      <th>1</th>\n",
       "      <td>229.0</td>\n",
       "      <td>True</td>\n",
       "    </tr>\n",
       "    <tr>\n",
       "      <th>2</th>\n",
       "      <td>289.0</td>\n",
       "      <td>True</td>\n",
       "    </tr>\n",
       "    <tr>\n",
       "      <th>3</th>\n",
       "      <td>290.0</td>\n",
       "      <td>True</td>\n",
       "    </tr>\n",
       "    <tr>\n",
       "      <th>4</th>\n",
       "      <td>294.0</td>\n",
       "      <td>True</td>\n",
       "    </tr>\n",
       "    <tr>\n",
       "      <th>5</th>\n",
       "      <td>318.0</td>\n",
       "      <td>True</td>\n",
       "    </tr>\n",
       "    <tr>\n",
       "      <th>6</th>\n",
       "      <td>334.0</td>\n",
       "      <td>True</td>\n",
       "    </tr>\n",
       "    <tr>\n",
       "      <th>7</th>\n",
       "      <td>341.0</td>\n",
       "      <td>True</td>\n",
       "    </tr>\n",
       "  </tbody>\n",
       "</table>\n",
       "</div>"
      ],
      "text/plain": [
       "      SN   pass\n",
       "0  135.0  False\n",
       "1  229.0   True\n",
       "2  289.0   True\n",
       "3  290.0   True\n",
       "4  294.0   True\n",
       "5  318.0   True\n",
       "6  334.0   True\n",
       "7  341.0   True"
      ]
     },
     "execution_count": 37,
     "metadata": {},
     "output_type": "execute_result"
    }
   ],
   "source": [
    "aldo_data = aldo_data.reset_index(drop=False)\n",
    "aldo_data"
   ]
  },
  {
   "cell_type": "code",
   "execution_count": 39,
   "metadata": {},
   "outputs": [
    {
     "data": {
      "text/html": [
       "<div>\n",
       "<style scoped>\n",
       "    .dataframe tbody tr th:only-of-type {\n",
       "        vertical-align: middle;\n",
       "    }\n",
       "\n",
       "    .dataframe tbody tr th {\n",
       "        vertical-align: top;\n",
       "    }\n",
       "\n",
       "    .dataframe thead th {\n",
       "        text-align: right;\n",
       "    }\n",
       "</style>\n",
       "<table border=\"1\" class=\"dataframe\">\n",
       "  <thead>\n",
       "    <tr style=\"text-align: right;\">\n",
       "      <th></th>\n",
       "      <th>SN</th>\n",
       "      <th>pass</th>\n",
       "    </tr>\n",
       "  </thead>\n",
       "  <tbody>\n",
       "    <tr>\n",
       "      <th>0</th>\n",
       "      <td>135</td>\n",
       "      <td>False</td>\n",
       "    </tr>\n",
       "    <tr>\n",
       "      <th>1</th>\n",
       "      <td>229</td>\n",
       "      <td>True</td>\n",
       "    </tr>\n",
       "    <tr>\n",
       "      <th>2</th>\n",
       "      <td>289</td>\n",
       "      <td>True</td>\n",
       "    </tr>\n",
       "    <tr>\n",
       "      <th>3</th>\n",
       "      <td>290</td>\n",
       "      <td>True</td>\n",
       "    </tr>\n",
       "    <tr>\n",
       "      <th>4</th>\n",
       "      <td>294</td>\n",
       "      <td>True</td>\n",
       "    </tr>\n",
       "    <tr>\n",
       "      <th>5</th>\n",
       "      <td>318</td>\n",
       "      <td>True</td>\n",
       "    </tr>\n",
       "    <tr>\n",
       "      <th>6</th>\n",
       "      <td>334</td>\n",
       "      <td>True</td>\n",
       "    </tr>\n",
       "    <tr>\n",
       "      <th>7</th>\n",
       "      <td>341</td>\n",
       "      <td>True</td>\n",
       "    </tr>\n",
       "  </tbody>\n",
       "</table>\n",
       "</div>"
      ],
      "text/plain": [
       "    SN   pass\n",
       "0  135  False\n",
       "1  229   True\n",
       "2  289   True\n",
       "3  290   True\n",
       "4  294   True\n",
       "5  318   True\n",
       "6  334   True\n",
       "7  341   True"
      ]
     },
     "execution_count": 39,
     "metadata": {},
     "output_type": "execute_result"
    }
   ],
   "source": [
    "aldo_data[\"SN\"] = aldo_data[\"SN\"].astype(int)\n",
    "aldo_data"
   ]
  },
  {
   "cell_type": "code",
   "execution_count": 31,
   "metadata": {},
   "outputs": [
    {
     "data": {
      "text/plain": [
       "SN\n",
       "106.0    True\n",
       "135.0    True\n",
       "219.0    True\n",
       "291.0    True\n",
       "295.0    True\n",
       "319.0    True\n",
       "333.0    True\n",
       "Name: pass, dtype: bool"
      ]
     },
     "execution_count": 31,
     "metadata": {},
     "output_type": "execute_result"
    }
   ],
   "source": [
    "tr1 = TestResult(path=test_results[1])\n",
    "aldo_data_1 = tr1.get_passing_info(\"Aldo\")\n",
    "aldo_data_1"
   ]
  },
  {
   "cell_type": "code",
   "execution_count": 21,
   "metadata": {},
   "outputs": [],
   "source": [
    "concat_series = pd.concat([aldo_data, aldo_data_1], ignore_index=False)\n"
   ]
  },
  {
   "cell_type": "code",
   "execution_count": 24,
   "metadata": {},
   "outputs": [
    {
     "data": {
      "text/plain": [
       "Index([135.0, 229.0, 289.0, 290.0, 294.0, 318.0, 334.0, 341.0, 106.0, 135.0,\n",
       "       219.0, 291.0, 295.0, 319.0, 333.0],\n",
       "      dtype='float64', name='SN')"
      ]
     },
     "execution_count": 24,
     "metadata": {},
     "output_type": "execute_result"
    }
   ],
   "source": [
    "concat_series.index"
   ]
  },
  {
   "cell_type": "code",
   "execution_count": 5,
   "metadata": {},
   "outputs": [
    {
     "name": "stderr",
     "output_type": "stream",
     "text": [
      "/eos/home-j/jowulff/MTD/combined_plots/tests.py:156: RuntimeWarning: invalid value encountered in double_scalars\n",
      "  max_inl = max(abs(error)) / slope\n"
     ]
    }
   ],
   "source": [
    "merged_dfs = {test_name: pd.concat([tr.get_data(test_name) for tr in trs], ignore_index=True) for test_name in test_map.keys()}"
   ]
  },
  {
   "cell_type": "code",
   "execution_count": 6,
   "metadata": {},
   "outputs": [
    {
     "data": {
      "text/plain": [
       "dict_keys(['Aldo', 'TestPulse', 'ExtTestPulse', 'DiscCalibration0', 'DiscCalibration1', 'DiscCalibration2', 'DiscCalibration3', 'QDCCalibration0', 'QDCCalibration1', 'QDCCalibration2', 'QDCCalibration3', 'QDCCalibration4', 'QDCCalibration5', 'QDCCalibration6', 'QDCCalibration7', 'TDCCalibration'])"
      ]
     },
     "execution_count": 6,
     "metadata": {},
     "output_type": "execute_result"
    }
   ],
   "source": [
    "merged_dfs.keys()"
   ]
  },
  {
   "cell_type": "code",
   "execution_count": 7,
   "metadata": {},
   "outputs": [
    {
     "data": {
      "text/plain": [
       "0.9814814814814815"
      ]
     },
     "execution_count": 7,
     "metadata": {},
     "output_type": "execute_result"
    }
   ],
   "source": [
    "merged_dfs[\"Aldo\"][\"pass\"].sum()/len(merged_dfs[\"Aldo\"])"
   ]
  },
  {
   "cell_type": "code",
   "execution_count": 8,
   "metadata": {},
   "outputs": [
    {
     "name": "stdout",
     "output_type": "stream",
     "text": [
      "Yield of Aldo: 98.15%\n",
      "SNs failing: [135. 280. 293. 105. 325.]\n",
      "skipping TestPulse\n",
      "skipping ExtTestPulse\n",
      "Yield of DiscCalibration0: 100.00%\n",
      "SNs failing: []\n",
      "Yield of DiscCalibration1: 100.00%\n",
      "SNs failing: []\n",
      "Yield of DiscCalibration2: 100.00%\n",
      "SNs failing: []\n",
      "Yield of DiscCalibration3: 100.00%\n",
      "SNs failing: []\n",
      "Yield of QDCCalibration0: 100.00%\n",
      "SNs failing: []\n",
      "Yield of QDCCalibration1: 100.00%\n",
      "SNs failing: []\n",
      "Yield of QDCCalibration2: 100.00%\n",
      "SNs failing: []\n",
      "Yield of QDCCalibration3: 100.00%\n",
      "SNs failing: [125]\n",
      "Yield of QDCCalibration4: 100.00%\n",
      "SNs failing: []\n",
      "Yield of QDCCalibration5: 100.00%\n",
      "SNs failing: []\n",
      "Yield of QDCCalibration6: 100.00%\n",
      "SNs failing: [125 108]\n",
      "Yield of QDCCalibration7: 99.99%\n",
      "SNs failing: [280 350 327]\n",
      "Yield of TDCCalibration: 99.99%\n",
      "SNs failing: [162 109]\n"
     ]
    }
   ],
   "source": [
    "for test_name, df in merged_dfs.items():\n",
    "    try:\n",
    "        print(f\"Yield of {test_name}: {df['pass'].sum()/len(df):.2%}\")\n",
    "        print(f\"SNs failing: {df[df['pass'] == False]['SN'].unique()}\")\n",
    "    except KeyError as e:\n",
    "        print(f\"skipping {test_name}\")\n",
    "        continue\n",
    "    "
   ]
  },
  {
   "cell_type": "code",
   "execution_count": 20,
   "metadata": {},
   "outputs": [
    {
     "name": "stderr",
     "output_type": "stream",
     "text": [
      "/eos/home-j/jowulff/MTD/combined_plots/tests.py:156: RuntimeWarning: invalid value encountered in double_scalars\n",
      "  max_inl = max(abs(error)) / slope\n"
     ]
    },
    {
     "data": {
      "text/html": [
       "<div>\n",
       "<style scoped>\n",
       "    .dataframe tbody tr th:only-of-type {\n",
       "        vertical-align: middle;\n",
       "    }\n",
       "\n",
       "    .dataframe tbody tr th {\n",
       "        vertical-align: top;\n",
       "    }\n",
       "\n",
       "    .dataframe thead th {\n",
       "        text-align: right;\n",
       "    }\n",
       "</style>\n",
       "<table border=\"1\" class=\"dataframe\">\n",
       "  <thead>\n",
       "    <tr style=\"text-align: right;\">\n",
       "      <th></th>\n",
       "      <th>tester_ID</th>\n",
       "      <th>asic_id</th>\n",
       "      <th>side</th>\n",
       "      <th>gain</th>\n",
       "      <th>slope</th>\n",
       "      <th>b</th>\n",
       "      <th>max_inl</th>\n",
       "      <th>SN</th>\n",
       "      <th>pass</th>\n",
       "    </tr>\n",
       "  </thead>\n",
       "  <tbody>\n",
       "    <tr>\n",
       "      <th>0</th>\n",
       "      <td>0</td>\n",
       "      <td>0</td>\n",
       "      <td>0</td>\n",
       "      <td>0</td>\n",
       "      <td>0.020495</td>\n",
       "      <td>35.412772</td>\n",
       "      <td>2.191727</td>\n",
       "      <td>334.0</td>\n",
       "      <td>True</td>\n",
       "    </tr>\n",
       "    <tr>\n",
       "      <th>1</th>\n",
       "      <td>0</td>\n",
       "      <td>0</td>\n",
       "      <td>0</td>\n",
       "      <td>1</td>\n",
       "      <td>0.040751</td>\n",
       "      <td>32.309174</td>\n",
       "      <td>4.052352</td>\n",
       "      <td>334.0</td>\n",
       "      <td>True</td>\n",
       "    </tr>\n",
       "    <tr>\n",
       "      <th>2</th>\n",
       "      <td>0</td>\n",
       "      <td>0</td>\n",
       "      <td>1</td>\n",
       "      <td>0</td>\n",
       "      <td>0.020592</td>\n",
       "      <td>35.413578</td>\n",
       "      <td>2.137131</td>\n",
       "      <td>334.0</td>\n",
       "      <td>True</td>\n",
       "    </tr>\n",
       "    <tr>\n",
       "      <th>3</th>\n",
       "      <td>0</td>\n",
       "      <td>0</td>\n",
       "      <td>1</td>\n",
       "      <td>1</td>\n",
       "      <td>0.041010</td>\n",
       "      <td>32.312781</td>\n",
       "      <td>4.770937</td>\n",
       "      <td>334.0</td>\n",
       "      <td>True</td>\n",
       "    </tr>\n",
       "    <tr>\n",
       "      <th>4</th>\n",
       "      <td>0</td>\n",
       "      <td>1</td>\n",
       "      <td>0</td>\n",
       "      <td>0</td>\n",
       "      <td>0.020424</td>\n",
       "      <td>34.736938</td>\n",
       "      <td>1.873895</td>\n",
       "      <td>334.0</td>\n",
       "      <td>True</td>\n",
       "    </tr>\n",
       "    <tr>\n",
       "      <th>...</th>\n",
       "      <td>...</td>\n",
       "      <td>...</td>\n",
       "      <td>...</td>\n",
       "      <td>...</td>\n",
       "      <td>...</td>\n",
       "      <td>...</td>\n",
       "      <td>...</td>\n",
       "      <td>...</td>\n",
       "      <td>...</td>\n",
       "    </tr>\n",
       "    <tr>\n",
       "      <th>59</th>\n",
       "      <td>7</td>\n",
       "      <td>0</td>\n",
       "      <td>1</td>\n",
       "      <td>1</td>\n",
       "      <td>0.040439</td>\n",
       "      <td>31.727445</td>\n",
       "      <td>3.962144</td>\n",
       "      <td>229.0</td>\n",
       "      <td>True</td>\n",
       "    </tr>\n",
       "    <tr>\n",
       "      <th>60</th>\n",
       "      <td>7</td>\n",
       "      <td>1</td>\n",
       "      <td>0</td>\n",
       "      <td>0</td>\n",
       "      <td>0.020484</td>\n",
       "      <td>35.146417</td>\n",
       "      <td>1.407178</td>\n",
       "      <td>229.0</td>\n",
       "      <td>True</td>\n",
       "    </tr>\n",
       "    <tr>\n",
       "      <th>61</th>\n",
       "      <td>7</td>\n",
       "      <td>1</td>\n",
       "      <td>0</td>\n",
       "      <td>1</td>\n",
       "      <td>0.040806</td>\n",
       "      <td>32.051225</td>\n",
       "      <td>3.644348</td>\n",
       "      <td>229.0</td>\n",
       "      <td>True</td>\n",
       "    </tr>\n",
       "    <tr>\n",
       "      <th>62</th>\n",
       "      <td>7</td>\n",
       "      <td>1</td>\n",
       "      <td>1</td>\n",
       "      <td>0</td>\n",
       "      <td>0.020704</td>\n",
       "      <td>35.190196</td>\n",
       "      <td>1.659040</td>\n",
       "      <td>229.0</td>\n",
       "      <td>True</td>\n",
       "    </tr>\n",
       "    <tr>\n",
       "      <th>63</th>\n",
       "      <td>7</td>\n",
       "      <td>1</td>\n",
       "      <td>1</td>\n",
       "      <td>1</td>\n",
       "      <td>0.041108</td>\n",
       "      <td>32.107250</td>\n",
       "      <td>3.691517</td>\n",
       "      <td>229.0</td>\n",
       "      <td>True</td>\n",
       "    </tr>\n",
       "  </tbody>\n",
       "</table>\n",
       "<p>64 rows × 9 columns</p>\n",
       "</div>"
      ],
      "text/plain": [
       "    tester_ID  asic_id  side  gain     slope          b   max_inl     SN  pass\n",
       "0           0        0     0     0  0.020495  35.412772  2.191727  334.0  True\n",
       "1           0        0     0     1  0.040751  32.309174  4.052352  334.0  True\n",
       "2           0        0     1     0  0.020592  35.413578  2.137131  334.0  True\n",
       "3           0        0     1     1  0.041010  32.312781  4.770937  334.0  True\n",
       "4           0        1     0     0  0.020424  34.736938  1.873895  334.0  True\n",
       "..        ...      ...   ...   ...       ...        ...       ...    ...   ...\n",
       "59          7        0     1     1  0.040439  31.727445  3.962144  229.0  True\n",
       "60          7        1     0     0  0.020484  35.146417  1.407178  229.0  True\n",
       "61          7        1     0     1  0.040806  32.051225  3.644348  229.0  True\n",
       "62          7        1     1     0  0.020704  35.190196  1.659040  229.0  True\n",
       "63          7        1     1     1  0.041108  32.107250  3.691517  229.0  True\n",
       "\n",
       "[64 rows x 9 columns]"
      ]
     },
     "execution_count": 20,
     "metadata": {},
     "output_type": "execute_result"
    }
   ],
   "source": [
    "aldo_1 = Aldo(test_result_dir=test_result_dirs[0], tester_to_serial=trs[0].tester_to_serial).get_data()\n",
    "aldo_1"
   ]
  },
  {
   "cell_type": "code",
   "execution_count": 32,
   "metadata": {},
   "outputs": [
    {
     "data": {
      "text/plain": [
       "[229.0, 289.0, 290.0, 294.0, 318.0, 334.0, 341.0]"
      ]
     },
     "execution_count": 32,
     "metadata": {},
     "output_type": "execute_result"
    }
   ],
   "source": [
    "(sn_s := aldo_1.groupby(\"SN\")[\"pass\"].all())[sn_s == True].index.tolist()"
   ]
  },
  {
   "cell_type": "code",
   "execution_count": 9,
   "metadata": {},
   "outputs": [
    {
     "name": "stdout",
     "output_type": "stream",
     "text": [
      "Skipping TestPulse\n",
      "Skipping ExtTestPulse\n"
     ]
    }
   ],
   "source": [
    "passing_serials_per_test = {}\n",
    "for test_name, df in merged_dfs.items():\n",
    "    try:\n",
    "        passing_serials_per_test[test_name] = df[df[\"pass\"] == True].SN.unique().tolist()\n",
    "    except KeyError as e:\n",
    "        print(f\"Skipping {test_name}\")\n",
    "        continue\n",
    "\n",
    "    "
   ]
  },
  {
   "cell_type": "code",
   "execution_count": 19,
   "metadata": {},
   "outputs": [
    {
     "data": {
      "text/plain": [
       "array([ 334.,  290.,  341.,  289.,  294.,  318.,  229.,  135.,  295.,\n",
       "        291.,  333.,  219.,  319.,  106.,  331.,  337.,  348.,  336.,\n",
       "        287.,  121.,  332.,  328.,  339.,  320.,  122.,  344.,  147.,\n",
       "        343.,  317.,  187.,  281.,  342.,  340.,  280.,  350.,  338.,\n",
       "        162.,  171.,  326.,  349.,  293.,  173.,  282.,  128.,  190.,\n",
       "        130.,  153.,  322.,  157.,  285.,  192.,  286.,  114.,  193.,\n",
       "        134.,  195.,  204.,  129.,  152.,  191.,  113.,  345.,  188.,\n",
       "        105.,  124.,  117.,  160.,  119.,  146.,  133.,  346.,  127.,\n",
       "        324.,  284.,  137.,  180.,  325.,  176.,  196.,  125.,  109.,\n",
       "        351.,  116.,  292.,  189.,  185.,  142.,  203.,  194., 9999.,\n",
       "        212.,  215.,  232.,  321.,  112.,  347.,  327.,  323.,  140.,\n",
       "        123.,  177.,  101.,  217.,  108.,  103.,  247.])"
      ]
     },
     "execution_count": 19,
     "metadata": {},
     "output_type": "execute_result"
    }
   ],
   "source": [
    "merged_dfs[\"Aldo\"][merged_dfs[\"Aldo\"][\"pass\"] == True].SN.unique()"
   ]
  },
  {
   "cell_type": "code",
   "execution_count": 10,
   "metadata": {},
   "outputs": [],
   "source": [
    "passing_serials_per_test = {k: set([int(sn) for sn in v]) for k, v in passing_serials_per_test.items()}\n",
    "all_serials_per_test = {k: set([int(sn) for sn in v.SN.unique()]) for k, v in merged_dfs.items()}"
   ]
  },
  {
   "cell_type": "code",
   "execution_count": 11,
   "metadata": {},
   "outputs": [],
   "source": [
    "all_serials = set.union(*all_serials_per_test.values())"
   ]
  }
 ],
 "metadata": {
  "kernelspec": {
   "display_name": "Python 3",
   "language": "python",
   "name": "python3"
  },
  "language_info": {
   "codemirror_mode": {
    "name": "ipython",
    "version": 3
   },
   "file_extension": ".py",
   "mimetype": "text/x-python",
   "name": "python",
   "nbconvert_exporter": "python",
   "pygments_lexer": "ipython3",
   "version": "3.10.6"
  }
 },
 "nbformat": 4,
 "nbformat_minor": 2
}
